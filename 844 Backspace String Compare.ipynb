{
 "cells": [
  {
   "cell_type": "code",
   "execution_count": 1,
   "id": "e4369711-b704-416c-8d3e-9bd1455fb48a",
   "metadata": {},
   "outputs": [],
   "source": [
    "# 844. Backspace String Compare"
   ]
  },
  {
   "cell_type": "code",
   "execution_count": null,
   "id": "5d808493-11d1-4e37-8b5c-7370680e9702",
   "metadata": {},
   "outputs": [],
   "source": [
    "class Solution:\n",
    "    def backspaceCompare(self, s: str, t: str) -> bool:\n",
    "        s1=[]\n",
    "        t1=[]\n",
    "\n",
    "        for i in s:\n",
    "            if i == \"#\":\n",
    "                if len(s1) > 0:\n",
    "                    s1.pop()\n",
    "            else:\n",
    "                s1.append(i)\n",
    "        \n",
    "        for i in t:\n",
    "            if i == \"#\":\n",
    "                if len(t1) > 0:\n",
    "                    t1.pop()\n",
    "            else:\n",
    "                t1.append(i)\n",
    "        \n",
    "        return s1==t1"
   ]
  }
 ],
 "metadata": {
  "kernelspec": {
   "display_name": "Python 3 (ipykernel)",
   "language": "python",
   "name": "python3"
  },
  "language_info": {
   "codemirror_mode": {
    "name": "ipython",
    "version": 3
   },
   "file_extension": ".py",
   "mimetype": "text/x-python",
   "name": "python",
   "nbconvert_exporter": "python",
   "pygments_lexer": "ipython3",
   "version": "3.12.4"
  }
 },
 "nbformat": 4,
 "nbformat_minor": 5
}
