{
 "cells": [
  {
   "cell_type": "code",
   "execution_count": null,
   "id": "12e2da81-5de3-4b4c-b38c-9f2d1ae340b1",
   "metadata": {},
   "outputs": [],
   "source": []
  },
  {
   "cell_type": "code",
   "execution_count": null,
   "id": "447d8a87-46ab-43ef-af00-2acced948cc8",
   "metadata": {},
   "outputs": [],
   "source": [
    "class Solution:\n",
    "    def reversePairs(self, nums: List[int]) -> int:\n",
    "        def merge_sort(start: int, end: int) -> int:\n",
    "            if start >= end:\n",
    "                return 0\n",
    "            mid = (start + end) // 2\n",
    "            count = merge_sort(start, mid) + merge_sort(mid + 1, end)\n",
    "\n",
    "            # Count the number of reverse pairs between two sorted halves\n",
    "            i = start\n",
    "            j = mid + 1\n",
    "            while i <= mid and j <= end:\n",
    "                if nums[i] > 2 * nums[j]:\n",
    "                    count += mid - i + 1\n",
    "                    j += 1\n",
    "                else:\n",
    "                    i += 1\n",
    "\n",
    "            # Merge two sorted halves\n",
    "            nums[start:end + 1] = sorted(nums[start:end + 1])\n",
    "\n",
    "            return count\n",
    "\n",
    "        return merge_sort(0, len(nums) - 1)"
   ]
  }
 ],
 "metadata": {
  "kernelspec": {
   "display_name": "Python 3 (ipykernel)",
   "language": "python",
   "name": "python3"
  },
  "language_info": {
   "codemirror_mode": {
    "name": "ipython",
    "version": 3
   },
   "file_extension": ".py",
   "mimetype": "text/x-python",
   "name": "python",
   "nbconvert_exporter": "python",
   "pygments_lexer": "ipython3",
   "version": "3.12.4"
  }
 },
 "nbformat": 4,
 "nbformat_minor": 5
}
