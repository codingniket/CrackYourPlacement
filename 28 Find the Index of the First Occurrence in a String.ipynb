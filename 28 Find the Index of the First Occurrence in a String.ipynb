{
 "cells": [
  {
   "cell_type": "markdown",
   "id": "d2a75057-0ce7-4dbb-ac0d-9d73bffe7e94",
   "metadata": {},
   "source": [
    "# 28 Find the Index of the First Occurrence in a String"
   ]
  },
  {
   "cell_type": "code",
   "execution_count": null,
   "id": "49e99d9e-d41f-48a3-8d2d-bf2857b363d2",
   "metadata": {},
   "outputs": [],
   "source": [
    "class Solution:\n",
    "    def strStr(self, haystack: str, needle: str) -> int:\n",
    "        if len(haystack) < len(needle):\n",
    "            return -1\n",
    "        \n",
    "        for i in range(len(haystack)):\n",
    "            if haystack[i:i+len(needle)] == needle:\n",
    "                return i\n",
    "        return -1"
   ]
  }
 ],
 "metadata": {
  "kernelspec": {
   "display_name": "Python 3 (ipykernel)",
   "language": "python",
   "name": "python3"
  },
  "language_info": {
   "codemirror_mode": {
    "name": "ipython",
    "version": 3
   },
   "file_extension": ".py",
   "mimetype": "text/x-python",
   "name": "python",
   "nbconvert_exporter": "python",
   "pygments_lexer": "ipython3",
   "version": "3.12.4"
  }
 },
 "nbformat": 4,
 "nbformat_minor": 5
}
