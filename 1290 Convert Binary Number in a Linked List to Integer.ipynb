{
 "cells": [
  {
   "cell_type": "markdown",
   "id": "37c3f3f7-92ac-4d14-8bfd-a61744780dbb",
   "metadata": {},
   "source": [
    "# 1290 Convert Binary Number in a Linked List to Integer"
   ]
  },
  {
   "cell_type": "code",
   "execution_count": null,
   "id": "62cf7b69-0fe4-48b8-a066-b8835dc1bcc5",
   "metadata": {},
   "outputs": [],
   "source": [
    "# Definition for singly-linked list.\n",
    "# class ListNode:\n",
    "#     def __init__(self, val=0, next=None):\n",
    "#         self.val = val\n",
    "#         self.next = next\n",
    "class Solution:\n",
    "    def getDecimalValue(self, head: ListNode) -> int:\n",
    "        s=\"\"\n",
    "        \n",
    "        while head:\n",
    "            s = s+str(head.val)\n",
    "            head = head.next\n",
    "        \n",
    "        return int(s,2)"
   ]
  }
 ],
 "metadata": {
  "kernelspec": {
   "display_name": "Python 3 (ipykernel)",
   "language": "python",
   "name": "python3"
  },
  "language_info": {
   "codemirror_mode": {
    "name": "ipython",
    "version": 3
   },
   "file_extension": ".py",
   "mimetype": "text/x-python",
   "name": "python",
   "nbconvert_exporter": "python",
   "pygments_lexer": "ipython3",
   "version": "3.12.4"
  }
 },
 "nbformat": 4,
 "nbformat_minor": 5
}
