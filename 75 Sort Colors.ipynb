{
 "cells": [
  {
   "cell_type": "markdown",
   "id": "e9da6461-e769-4b27-8c33-4df6319aa8ad",
   "metadata": {},
   "source": [
    "### 75 Sort Colors"
   ]
  },
  {
   "cell_type": "code",
   "execution_count": null,
   "id": "85937012-e3b3-4a3b-8186-0e84156f34ac",
   "metadata": {},
   "outputs": [],
   "source": [
    "class Solution:\n",
    "    def sortColors(self, nums: List[int]) -> None:\n",
    "        \"\"\"\n",
    "        Do not return anything, modify nums in-place instead.\n",
    "        \"\"\"\n",
    "        r, w , b = 0 , 0 , 0\n",
    "\n",
    "        for i in nums:\n",
    "            if i == 0:\n",
    "                r+=1\n",
    "            elif i == 1:\n",
    "                w+=1\n",
    "            else:\n",
    "                b+=1\n",
    "        \n",
    "        for i in range(r):\n",
    "            nums[i] = 0\n",
    "        \n",
    "        for i in range(r,r+w):\n",
    "            nums[i] = 1\n",
    "        \n",
    "        for i in range(r+w,r+w+b):\n",
    "            nums[i] = 2\n",
    "        \n",
    "        return nums"
   ]
  }
 ],
 "metadata": {
  "kernelspec": {
   "display_name": "Python 3 (ipykernel)",
   "language": "python",
   "name": "python3"
  },
  "language_info": {
   "codemirror_mode": {
    "name": "ipython",
    "version": 3
   },
   "file_extension": ".py",
   "mimetype": "text/x-python",
   "name": "python",
   "nbconvert_exporter": "python",
   "pygments_lexer": "ipython3",
   "version": "3.12.4"
  }
 },
 "nbformat": 4,
 "nbformat_minor": 5
}
