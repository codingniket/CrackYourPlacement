{
 "cells": [
  {
   "cell_type": "markdown",
   "id": "64704857-1a1c-477c-a3b4-202f64df573e",
   "metadata": {},
   "source": [
    "### 11 Container With Most Water"
   ]
  },
  {
   "cell_type": "code",
   "execution_count": 12,
   "id": "bc5bd655-cd23-4751-baa5-a217b5e53db0",
   "metadata": {},
   "outputs": [],
   "source": [
    "class Solution:\n",
    "    def maxArea(self, height: List[int]) -> int:\n",
    "        l = 0\n",
    "        r = len(height)-1\n",
    "        area = 0\n",
    "\n",
    "        while l < r:\n",
    "            h = min(height[l],height[r]) #conditon of overflow\n",
    "            area = max(area,h*(r-l))\n",
    "\n",
    "            if height[l] < height[r]:\n",
    "                l+=1\n",
    "            else:\n",
    "                r-=1\n",
    "        return area\n"
   ]
  }
 ],
 "metadata": {
  "kernelspec": {
   "display_name": "Python 3 (ipykernel)",
   "language": "python",
   "name": "python3"
  },
  "language_info": {
   "codemirror_mode": {
    "name": "ipython",
    "version": 3
   },
   "file_extension": ".py",
   "mimetype": "text/x-python",
   "name": "python",
   "nbconvert_exporter": "python",
   "pygments_lexer": "ipython3",
   "version": "3.12.4"
  }
 },
 "nbformat": 4,
 "nbformat_minor": 5
}
