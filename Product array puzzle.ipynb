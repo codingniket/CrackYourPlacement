{
 "cells": [
  {
   "cell_type": "code",
   "execution_count": null,
   "id": "a2663234-79b4-4e4b-8680-09251a719736",
   "metadata": {},
   "outputs": [],
   "source": [
    "# Product array puzzle"
   ]
  },
  {
   "cell_type": "code",
   "execution_count": null,
   "id": "c64384bf-f5e8-4489-9181-99b1aff4235e",
   "metadata": {},
   "outputs": [],
   "source": [
    "class Solution:\n",
    "    def productExceptSelf(self, nums, n):\n",
    "        # Initialize the result array with ones\n",
    "        res = [1] * n\n",
    "        \n",
    "        # Calculate left products for each element\n",
    "        left_product = 1\n",
    "        for i in range(n):\n",
    "            res[i] = left_product\n",
    "            left_product *= nums[i]\n",
    "        \n",
    "        # Calculate right products for each element\n",
    "        right_product = 1\n",
    "        for i in range(n - 1, -1, -1):\n",
    "            res[i] *= right_product\n",
    "            right_product *= nums[i]\n",
    "        \n",
    "        return res"
   ]
  }
 ],
 "metadata": {
  "kernelspec": {
   "display_name": "Python 3 (ipykernel)",
   "language": "python",
   "name": "python3"
  },
  "language_info": {
   "codemirror_mode": {
    "name": "ipython",
    "version": 3
   },
   "file_extension": ".py",
   "mimetype": "text/x-python",
   "name": "python",
   "nbconvert_exporter": "python",
   "pygments_lexer": "ipython3",
   "version": "3.12.4"
  }
 },
 "nbformat": 4,
 "nbformat_minor": 5
}
