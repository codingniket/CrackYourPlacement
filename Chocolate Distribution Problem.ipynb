{
 "cells": [
  {
   "cell_type": "markdown",
   "id": "05b719da-a905-4cf8-8d61-3b3f133416ce",
   "metadata": {},
   "source": [
    "### Chocolate Distribution Problem\r\n"
   ]
  },
  {
   "cell_type": "markdown",
   "id": "ce387c2d-a0d1-4333-b5fd-7d4b02b433fc",
   "metadata": {},
   "source": [
    "https://www.geeksforgeeks.org/problems/chocolate-distribution-problem3825/1"
   ]
  },
  {
   "cell_type": "code",
   "execution_count": null,
   "id": "850dadad-9854-4a6d-849d-0c4693aaed93",
   "metadata": {},
   "outputs": [],
   "source": [
    "class Solution:\n",
    "\n",
    "    def findMinDiff(self, arr,N,M):\n",
    "\n",
    "        # code here\n",
    "        \n",
    "        arr.sort()\n",
    "        \n",
    "        m = +1000000\n",
    "        \n",
    "        i,j = 0 , M-1\n",
    "        \n",
    "        while j < N:\n",
    "            diff = arr[j]-arr[i]\n",
    "            \n",
    "            m = min(m,diff)\n",
    "            \n",
    "            i+=1\n",
    "            j+=1\n",
    "        \n",
    "        return m"
   ]
  }
 ],
 "metadata": {
  "kernelspec": {
   "display_name": "Python 3 (ipykernel)",
   "language": "python",
   "name": "python3"
  },
  "language_info": {
   "codemirror_mode": {
    "name": "ipython",
    "version": 3
   },
   "file_extension": ".py",
   "mimetype": "text/x-python",
   "name": "python",
   "nbconvert_exporter": "python",
   "pygments_lexer": "ipython3",
   "version": "3.12.4"
  }
 },
 "nbformat": 4,
 "nbformat_minor": 5
}
