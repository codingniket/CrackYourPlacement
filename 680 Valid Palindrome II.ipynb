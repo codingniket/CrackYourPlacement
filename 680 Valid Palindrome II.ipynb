{
 "cells": [
  {
   "cell_type": "markdown",
   "id": "2fa59115-1b7e-4b35-b86e-e57a827d80fc",
   "metadata": {},
   "source": [
    "# 680. Valid Palindrome II"
   ]
  },
  {
   "cell_type": "code",
   "execution_count": null,
   "id": "e6e56fd5-ce21-48cf-8b44-b3170429fa71",
   "metadata": {},
   "outputs": [],
   "source": [
    "class Solution:\n",
    "    def validPalindrome(self, s: str) -> bool:\n",
    "        j = len(s)-1\n",
    "        i = 0\n",
    "\n",
    "        while i <= j:\n",
    "            if s[i] != s[j]:\n",
    "                s1 = s[:i] + s[i+1:]\n",
    "                s2 = s[:j] + s[j+1:]\n",
    "                return s1 == s1[::-1] or s2 == s2[::-1]\n",
    "            i+=1\n",
    "            j-=1\n",
    "        return True\n",
    "\n"
   ]
  }
 ],
 "metadata": {
  "kernelspec": {
   "display_name": "Python 3 (ipykernel)",
   "language": "python",
   "name": "python3"
  },
  "language_info": {
   "codemirror_mode": {
    "name": "ipython",
    "version": 3
   },
   "file_extension": ".py",
   "mimetype": "text/x-python",
   "name": "python",
   "nbconvert_exporter": "python",
   "pygments_lexer": "ipython3",
   "version": "3.12.4"
  }
 },
 "nbformat": 4,
 "nbformat_minor": 5
}
