{
 "cells": [
  {
   "cell_type": "markdown",
   "id": "2bdf28e7-86da-4d24-bfaa-500060a76fbb",
   "metadata": {},
   "source": [
    "### 121. Best Time to Buy and Sell Stock"
   ]
  },
  {
   "cell_type": "code",
   "execution_count": null,
   "id": "7044a18d-9782-4fd8-af64-a3992f8c8295",
   "metadata": {},
   "outputs": [],
   "source": [
    "class Solution:\n",
    "    def maxProfit(self, prices: List[int]) -> int:\n",
    "\n",
    "        low = 1000000\n",
    "        high = -1000000\n",
    "\n",
    "        for i in prices:\n",
    "\n",
    "            if i < low:\n",
    "                low = i\n",
    "            else:\n",
    "                high = max(high,i - low)\n",
    "        \n",
    "        if high == -1000000:\n",
    "            return 0\n",
    "\n",
    "        return high      "
   ]
  }
 ],
 "metadata": {
  "kernelspec": {
   "display_name": "Python 3 (ipykernel)",
   "language": "python",
   "name": "python3"
  },
  "language_info": {
   "codemirror_mode": {
    "name": "ipython",
    "version": 3
   },
   "file_extension": ".py",
   "mimetype": "text/x-python",
   "name": "python",
   "nbconvert_exporter": "python",
   "pygments_lexer": "ipython3",
   "version": "3.12.4"
  }
 },
 "nbformat": 4,
 "nbformat_minor": 5
}
