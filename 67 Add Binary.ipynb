{
 "cells": [
  {
   "cell_type": "code",
   "execution_count": 1,
   "id": "ab4ef8bf-16fa-4f67-905a-09ded215d921",
   "metadata": {},
   "outputs": [],
   "source": [
    "# 67. Add Binary"
   ]
  },
  {
   "cell_type": "code",
   "execution_count": 5,
   "id": "50c36bfa-d1bb-4eb8-9174-4d04821fd037",
   "metadata": {},
   "outputs": [],
   "source": [
    "class Solution:\n",
    "    def addBinary(self, a: str, b: str) -> str:\n",
    "        res = []\n",
    "        carry = 0\n",
    "        i,j = len(a)-1,len(b)-1\n",
    "\n",
    "        while i>=0 or j>=0 or carry:\n",
    "            t = carry\n",
    "\n",
    "            if i>=0:\n",
    "                t+=int(a[i])\n",
    "                i-=1\n",
    "\n",
    "            if j>=0:\n",
    "                t+=int(b[j])\n",
    "                j-=1\n",
    "            \n",
    "            res.append(str(t%2))\n",
    "\n",
    "            carry = t//2\n",
    "        \n",
    "\n",
    "        return ''.join(reversed(res))"
   ]
  }
 ],
 "metadata": {
  "kernelspec": {
   "display_name": "Python 3 (ipykernel)",
   "language": "python",
   "name": "python3"
  },
  "language_info": {
   "codemirror_mode": {
    "name": "ipython",
    "version": 3
   },
   "file_extension": ".py",
   "mimetype": "text/x-python",
   "name": "python",
   "nbconvert_exporter": "python",
   "pygments_lexer": "ipython3",
   "version": "3.12.4"
  }
 },
 "nbformat": 4,
 "nbformat_minor": 5
}
