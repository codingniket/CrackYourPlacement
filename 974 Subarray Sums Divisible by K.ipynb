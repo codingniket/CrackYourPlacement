{
 "cells": [
  {
   "cell_type": "markdown",
   "id": "568a5aa8-f48a-44ae-bdf1-1a9535a19549",
   "metadata": {},
   "source": [
    "### 974. Subarray Sums Divisible by K"
   ]
  },
  {
   "cell_type": "code",
   "execution_count": null,
   "id": "62b60f05-b090-41db-b2f9-2fbe1ccde255",
   "metadata": {},
   "outputs": [],
   "source": [
    "class Solution:\n",
    "    def subarraysDivByK(self, nums: List[int], k: int) -> int:\n",
    "        c = 0\n",
    "        s = 0\n",
    "        d={0:1}\n",
    "\n",
    "        for i in nums:\n",
    "            s+=i\n",
    "\n",
    "            rem = s%k\n",
    "            if rem < 0:\n",
    "                rem+=k\n",
    "            if rem in d:\n",
    "                c+=d[rem]\n",
    "                d[rem] += 1\n",
    "            else:\n",
    "                d[rem] = 1\n",
    "        \n",
    "        return c\n",
    "                "
   ]
  }
 ],
 "metadata": {
  "kernelspec": {
   "display_name": "Python 3 (ipykernel)",
   "language": "python",
   "name": "python3"
  },
  "language_info": {
   "codemirror_mode": {
    "name": "ipython",
    "version": 3
   },
   "file_extension": ".py",
   "mimetype": "text/x-python",
   "name": "python",
   "nbconvert_exporter": "python",
   "pygments_lexer": "ipython3",
   "version": "3.12.4"
  }
 },
 "nbformat": 4,
 "nbformat_minor": 5
}
