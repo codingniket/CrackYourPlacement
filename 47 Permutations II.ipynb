{
 "cells": [
  {
   "cell_type": "code",
   "execution_count": null,
   "id": "207babf5-cd20-46d6-9873-50a47dc07f19",
   "metadata": {},
   "outputs": [],
   "source": [
    "# 47. Permutations II"
   ]
  },
  {
   "cell_type": "code",
   "execution_count": null,
   "id": "8fe653af-a883-4b2a-bdd9-143738633662",
   "metadata": {},
   "outputs": [],
   "source": [
    "class Solution:\n",
    "    def permuteUnique(self, arr: List[int]) -> List[List[int]]:\n",
    "        res = []\n",
    "        p = []\n",
    "        d={}\n",
    "        \n",
    "        for i in arr:\n",
    "            if i in d:\n",
    "                d[i] += 1\n",
    "            else:\n",
    "                d[i] = 1\n",
    "        \n",
    "        def dfs():\n",
    "            if len(p) == len(arr):\n",
    "                res.append(p.copy())\n",
    "                return\n",
    "            \n",
    "            for i in d:\n",
    "                if d[i] > 0:\n",
    "                    p.append(i)\n",
    "                    d[i]-=1\n",
    "                    dfs()\n",
    "                    d[i]+=1\n",
    "                    p.pop()\n",
    "        \n",
    "        dfs()\n",
    "        return res"
   ]
  }
 ],
 "metadata": {
  "kernelspec": {
   "display_name": "Python 3 (ipykernel)",
   "language": "python",
   "name": "python3"
  },
  "language_info": {
   "codemirror_mode": {
    "name": "ipython",
    "version": 3
   },
   "file_extension": ".py",
   "mimetype": "text/x-python",
   "name": "python",
   "nbconvert_exporter": "python",
   "pygments_lexer": "ipython3",
   "version": "3.12.4"
  }
 },
 "nbformat": 4,
 "nbformat_minor": 5
}
