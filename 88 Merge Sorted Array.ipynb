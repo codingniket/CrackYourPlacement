{
 "cells": [
  {
   "cell_type": "code",
   "execution_count": null,
   "id": "02060961-3453-4da5-af3b-a08be70bb500",
   "metadata": {},
   "outputs": [],
   "source": []
  },
  {
   "cell_type": "code",
   "execution_count": null,
   "id": "a6c38aa2-910c-4984-8d70-5f0dd697486e",
   "metadata": {},
   "outputs": [],
   "source": [
    "class Solution:\n",
    "    def merge(self, nums1: List[int], m: int, nums2: List[int], n: int) -> None:\n",
    "        \"\"\"\n",
    "        Do not return anything, modify nums1 in-place instead.\n",
    "        \"\"\"\n",
    "        i = m - 1\n",
    "        j = n - 1\n",
    "        k = m + n - 1\n",
    "\n",
    "        while i >= 0 and j >= 0:\n",
    "            if nums1[i] < nums2[j]:\n",
    "                nums1[k] = nums2[j]\n",
    "                j -= 1\n",
    "            else:\n",
    "                nums1[k] = nums1[i]\n",
    "                i -= 1\n",
    "            k -= 1\n",
    "\n",
    "        while j >= 0:\n",
    "            nums1[k] = nums2[j]\n",
    "            j -= 1\n",
    "            k -= 1\n",
    "        \n",
    "        return nums1"
   ]
  }
 ],
 "metadata": {
  "kernelspec": {
   "display_name": "Python 3 (ipykernel)",
   "language": "python",
   "name": "python3"
  },
  "language_info": {
   "codemirror_mode": {
    "name": "ipython",
    "version": 3
   },
   "file_extension": ".py",
   "mimetype": "text/x-python",
   "name": "python",
   "nbconvert_exporter": "python",
   "pygments_lexer": "ipython3",
   "version": "3.12.4"
  }
 },
 "nbformat": 4,
 "nbformat_minor": 5
}
