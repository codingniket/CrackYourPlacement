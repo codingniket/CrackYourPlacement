{
 "cells": [
  {
   "cell_type": "markdown",
   "id": "e0c131c1-b4e3-45dc-938e-59ea8c301aac",
   "metadata": {},
   "source": [
    "# 20 Valid Parentheses"
   ]
  },
  {
   "cell_type": "code",
   "execution_count": null,
   "id": "0e809f21-c8fa-4f52-92f8-3883d9859e2b",
   "metadata": {},
   "outputs": [],
   "source": [
    "class Solution:\n",
    "    def isValid(self, s: str) -> bool:\n",
    "        d = {\")\":\"(\", \"}\":\"{\", \"]\":\"[\"}\n",
    "\n",
    "        stack=[]\n",
    "\n",
    "        for i in s:\n",
    "            if i in d.values():\n",
    "                stack.append(i)\n",
    "            elif i in d.keys():\n",
    "                if not stack or d[i] != stack.pop():\n",
    "                    return False\n",
    "        return not stack"
   ]
  }
 ],
 "metadata": {
  "kernelspec": {
   "display_name": "Python 3 (ipykernel)",
   "language": "python",
   "name": "python3"
  },
  "language_info": {
   "codemirror_mode": {
    "name": "ipython",
    "version": 3
   },
   "file_extension": ".py",
   "mimetype": "text/x-python",
   "name": "python",
   "nbconvert_exporter": "python",
   "pygments_lexer": "ipython3",
   "version": "3.12.4"
  }
 },
 "nbformat": 4,
 "nbformat_minor": 5
}
