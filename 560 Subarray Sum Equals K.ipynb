{
 "cells": [
  {
   "cell_type": "markdown",
   "id": "9b544a94-6a6a-4b09-bf0d-8055e795075f",
   "metadata": {},
   "source": [
    "### 560 Subarray Sum Equals K"
   ]
  },
  {
   "cell_type": "code",
   "execution_count": null,
   "id": "8159cabf-c933-4c6c-9ea8-60b233eb73d3",
   "metadata": {},
   "outputs": [],
   "source": [
    "class Solution:\n",
    "    def subarraySum(self, nums: List[int], k: int) -> int:\n",
    "        d={0:1}\n",
    "        c = 0\n",
    "        s = 0\n",
    "        for i in nums:\n",
    "            s+=i\n",
    "            if (s-k) in d:\n",
    "                c+=d[s-k]\n",
    "            if s in d:\n",
    "                d[s]+=1\n",
    "            else:\n",
    "                d[s] = 1\n",
    "        return c\n"
   ]
  }
 ],
 "metadata": {
  "kernelspec": {
   "display_name": "Python 3 (ipykernel)",
   "language": "python",
   "name": "python3"
  },
  "language_info": {
   "codemirror_mode": {
    "name": "ipython",
    "version": 3
   },
   "file_extension": ".py",
   "mimetype": "text/x-python",
   "name": "python",
   "nbconvert_exporter": "python",
   "pygments_lexer": "ipython3",
   "version": "3.12.4"
  }
 },
 "nbformat": 4,
 "nbformat_minor": 5
}
