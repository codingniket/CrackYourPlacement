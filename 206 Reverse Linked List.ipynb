{
 "cells": [
  {
   "cell_type": "code",
   "execution_count": null,
   "id": "b27ea9f2-21b3-432d-8011-7a4632758279",
   "metadata": {},
   "outputs": [],
   "source": [
    "# Definition for singly-linked list.\n",
    "# class ListNode:\n",
    "#     def __init__(self, val=0, next=None):\n",
    "#         self.val = val\n",
    "#         self.next = next\n",
    "class Solution:\n",
    "    def isPalindrome(self, head: Optional[ListNode]) -> bool:\n",
    "        stack = []\n",
    "        curr = head\n",
    "        temp = head\n",
    "\n",
    "        while curr:\n",
    "            stack.append(curr.val)\n",
    "            curr = curr.next\n",
    "        \n",
    "        while temp:\n",
    "            if temp.val != stack.pop():\n",
    "                return False\n",
    "            temp = temp.next\n",
    "        \n",
    "        return True"
   ]
  }
 ],
 "metadata": {
  "kernelspec": {
   "display_name": "Python 3 (ipykernel)",
   "language": "python",
   "name": "python3"
  },
  "language_info": {
   "codemirror_mode": {
    "name": "ipython",
    "version": 3
   },
   "file_extension": ".py",
   "mimetype": "text/x-python",
   "name": "python",
   "nbconvert_exporter": "python",
   "pygments_lexer": "ipython3",
   "version": "3.12.4"
  }
 },
 "nbformat": 4,
 "nbformat_minor": 5
}
