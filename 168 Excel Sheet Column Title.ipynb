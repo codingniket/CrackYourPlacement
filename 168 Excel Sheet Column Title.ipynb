{
 "cells": [
  {
   "cell_type": "code",
   "execution_count": 1,
   "id": "f2d324a9-7826-4e5c-a24d-c67590b3a276",
   "metadata": {},
   "outputs": [],
   "source": [
    "# 168. Excel Sheet Column Title"
   ]
  },
  {
   "cell_type": "code",
   "execution_count": null,
   "id": "e4c6ba7a-137a-4dd3-b8f9-a505c9c3e732",
   "metadata": {},
   "outputs": [],
   "source": [
    "class Solution:\n",
    "    def convertToTitle(self, columnNumber: int) -> str:\n",
    "        x = \"\"\n",
    "        while columnNumber > 0:\n",
    "            x = chr(ord('A') + (columnNumber-1)%26) +   x\n",
    "\n",
    "            columnNumber = (columnNumber-1)//26\n",
    "        return x"
   ]
  }
 ],
 "metadata": {
  "kernelspec": {
   "display_name": "Python 3 (ipykernel)",
   "language": "python",
   "name": "python3"
  },
  "language_info": {
   "codemirror_mode": {
    "name": "ipython",
    "version": 3
   },
   "file_extension": ".py",
   "mimetype": "text/x-python",
   "name": "python",
   "nbconvert_exporter": "python",
   "pygments_lexer": "ipython3",
   "version": "3.12.4"
  }
 },
 "nbformat": 4,
 "nbformat_minor": 5
}
