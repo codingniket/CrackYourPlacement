{
 "cells": [
  {
   "cell_type": "markdown",
   "id": "d8c8b791-b4e7-4288-b443-f4f07939b95c",
   "metadata": {},
   "source": [
    "### 1 Two Sum"
   ]
  },
  {
   "cell_type": "code",
   "execution_count": null,
   "id": "34a1a49b-cb4f-48e8-be0c-bf936bfc2c21",
   "metadata": {},
   "outputs": [],
   "source": [
    "class Solution:\n",
    "    def twoSum(self, nums: List[int], target: int) -> List[int]:\n",
    "        seen = {}\n",
    "\n",
    "        for i in range(len(nums)):\n",
    "            d = target - nums[i]\n",
    "\n",
    "            if d in seen:\n",
    "                return [seen[d],i]\n",
    "            else:\n",
    "                seen[nums[i]] = i\n",
    "        \n",
    "        return -1"
   ]
  }
 ],
 "metadata": {
  "kernelspec": {
   "display_name": "Python 3 (ipykernel)",
   "language": "python",
   "name": "python3"
  },
  "language_info": {
   "codemirror_mode": {
    "name": "ipython",
    "version": 3
   },
   "file_extension": ".py",
   "mimetype": "text/x-python",
   "name": "python",
   "nbconvert_exporter": "python",
   "pygments_lexer": "ipython3",
   "version": "3.12.4"
  }
 },
 "nbformat": 4,
 "nbformat_minor": 5
}
