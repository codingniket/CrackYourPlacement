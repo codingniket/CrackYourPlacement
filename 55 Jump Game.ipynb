{
 "cells": [
  {
   "cell_type": "markdown",
   "id": "d8437ebd-d6a0-4ad0-895e-117654afe216",
   "metadata": {},
   "source": [
    "# 55 Jump Game"
   ]
  },
  {
   "cell_type": "code",
   "execution_count": null,
   "id": "9fb18d0d-b664-464b-a814-2293c8e2163e",
   "metadata": {},
   "outputs": [],
   "source": [
    "class Solution:\n",
    "    def canJump(self, nums: List[int]) -> bool:\n",
    "        maxIndex = 0\n",
    "        for i in range(0,len(nums)):\n",
    "            if i > maxIndex:\n",
    "                return False\n",
    "            maxIndex = max(maxIndex,i+nums[i])\n",
    "        return True"
   ]
  }
 ],
 "metadata": {
  "kernelspec": {
   "display_name": "Python 3 (ipykernel)",
   "language": "python",
   "name": "python3"
  },
  "language_info": {
   "codemirror_mode": {
    "name": "ipython",
    "version": 3
   },
   "file_extension": ".py",
   "mimetype": "text/x-python",
   "name": "python",
   "nbconvert_exporter": "python",
   "pygments_lexer": "ipython3",
   "version": "3.12.4"
  }
 },
 "nbformat": 4,
 "nbformat_minor": 5
}
