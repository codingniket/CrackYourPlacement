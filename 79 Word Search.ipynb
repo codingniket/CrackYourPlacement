{
 "cells": [
  {
   "cell_type": "markdown",
   "id": "69dc9146-3518-4e58-8d28-533e806be8ac",
   "metadata": {},
   "source": [
    "# 79. Word Search"
   ]
  },
  {
   "cell_type": "code",
   "execution_count": null,
   "id": "4c172ed5-e86b-4b74-a1dd-a5dd44225230",
   "metadata": {},
   "outputs": [],
   "source": [
    "class Solution:\n",
    "    def exist(self, board: List[List[str]], word: str) -> bool:\n",
    "        Row,Col = len(board),len(board[0])\n",
    "        path = set()\n",
    "\n",
    "        def dfs(r,c,i):\n",
    "            if i == len(word):\n",
    "                return True\n",
    "            if (r<0 or c<0 or r>=Row or c>=Col or word[i] != board[r][c] or (r,c) in path):\n",
    "                return False\n",
    "            \n",
    "            path.add((r,c))\n",
    "\n",
    "            res = ( dfs(r+1,c,i+1) or dfs(r-1,c,i+1) or dfs(r,c+1,i+1) or dfs(r,c-1,i+1))\n",
    "            path.remove((r,c))\n",
    "\n",
    "            return res\n",
    "        \n",
    "        for i in range(Row):\n",
    "            for j in range(Col):\n",
    "                if dfs(i,j,0):\n",
    "                    return True\n",
    "        return False\n"
   ]
  }
 ],
 "metadata": {
  "kernelspec": {
   "display_name": "Python 3 (ipykernel)",
   "language": "python",
   "name": "python3"
  },
  "language_info": {
   "codemirror_mode": {
    "name": "ipython",
    "version": 3
   },
   "file_extension": ".py",
   "mimetype": "text/x-python",
   "name": "python",
   "nbconvert_exporter": "python",
   "pygments_lexer": "ipython3",
   "version": "3.12.4"
  }
 },
 "nbformat": 4,
 "nbformat_minor": 5
}
