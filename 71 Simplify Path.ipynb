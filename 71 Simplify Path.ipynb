{
 "cells": [
  {
   "cell_type": "markdown",
   "id": "87947915-3049-4413-8e27-a53968313254",
   "metadata": {},
   "source": [
    "# 71 Simplify Path"
   ]
  },
  {
   "cell_type": "code",
   "execution_count": null,
   "id": "9372f048-2d6b-4859-bbaa-f07a7485b2d2",
   "metadata": {},
   "outputs": [],
   "source": [
    "class Solution:\n",
    "    def simplifyPath(self, path: str) -> str:\n",
    "        stack=[]\n",
    "        x = path.split(\"/\")\n",
    "\n",
    "        for i in x:\n",
    "            if i == \".\" or i == \"\":\n",
    "                continue\n",
    "            elif i == \"..\":\n",
    "                if stack:\n",
    "                    stack.pop()\n",
    "            else:\n",
    "                stack.append(i)\n",
    "        \n",
    "        return \"/\"+\"/\".join(stack)\n"
   ]
  }
 ],
 "metadata": {
  "kernelspec": {
   "display_name": "Python 3 (ipykernel)",
   "language": "python",
   "name": "python3"
  },
  "language_info": {
   "codemirror_mode": {
    "name": "ipython",
    "version": 3
   },
   "file_extension": ".py",
   "mimetype": "text/x-python",
   "name": "python",
   "nbconvert_exporter": "python",
   "pygments_lexer": "ipython3",
   "version": "3.12.4"
  }
 },
 "nbformat": 4,
 "nbformat_minor": 5
}
