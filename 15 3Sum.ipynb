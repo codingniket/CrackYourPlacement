{
 "cells": [
  {
   "cell_type": "markdown",
   "id": "7440419d-5a71-483e-9236-58d4681a106f",
   "metadata": {},
   "source": [
    "### 15. 3Sum"
   ]
  },
  {
   "cell_type": "code",
   "execution_count": null,
   "id": "c18d838c-4646-4ce8-8fa5-a42a3c40d5e5",
   "metadata": {},
   "outputs": [],
   "source": [
    "class Solution:\n",
    "    def threeSum(self, nums: List[int]) -> List[List[int]]:\n",
    "        res=[]\n",
    "        nums.sort()\n",
    "\n",
    "        for i,a in enumerate(nums):\n",
    "            if i > 0 and a == nums[i-1]:\n",
    "                continue\n",
    "            l,r = i+1,len(nums)-1\n",
    "            while l < r:\n",
    "                s = a+nums[l]+nums[r]\n",
    "\n",
    "                if s > 0:\n",
    "                    r-=1\n",
    "                elif s < 0:\n",
    "                    l+=1\n",
    "                else:\n",
    "                    res.append([a,nums[l],nums[r]])\n",
    "                    l+=1\n",
    "                    while nums[l] == nums[l-1] and l <r:\n",
    "                        l+=1\n",
    "        return res"
   ]
  }
 ],
 "metadata": {
  "kernelspec": {
   "display_name": "Python 3 (ipykernel)",
   "language": "python",
   "name": "python3"
  },
  "language_info": {
   "codemirror_mode": {
    "name": "ipython",
    "version": 3
   },
   "file_extension": ".py",
   "mimetype": "text/x-python",
   "name": "python",
   "nbconvert_exporter": "python",
   "pygments_lexer": "ipython3",
   "version": "3.12.4"
  }
 },
 "nbformat": 4,
 "nbformat_minor": 5
}
