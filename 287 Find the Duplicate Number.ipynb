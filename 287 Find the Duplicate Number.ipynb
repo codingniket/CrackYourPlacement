{
 "cells": [
  {
   "cell_type": "markdown",
   "id": "e3382c08-2047-4b43-ada3-5d02e49e4660",
   "metadata": {},
   "source": [
    "### 287 Find the Duplicate Number "
   ]
  },
  {
   "cell_type": "code",
   "execution_count": null,
   "id": "1a509a0d-d1a5-4566-8785-791e9cf88217",
   "metadata": {},
   "outputs": [],
   "source": [
    "class Solution:\n",
    "    def findDuplicate(self, nums: List[int]) -> int:\n",
    "        d = {}\n",
    "\n",
    "        for i in nums:\n",
    "            if i in d:\n",
    "                return i\n",
    "            else:\n",
    "                d[i] = 1\n",
    "        return -1"
   ]
  }
 ],
 "metadata": {
  "kernelspec": {
   "display_name": "Python 3 (ipykernel)",
   "language": "python",
   "name": "python3"
  },
  "language_info": {
   "codemirror_mode": {
    "name": "ipython",
    "version": 3
   },
   "file_extension": ".py",
   "mimetype": "text/x-python",
   "name": "python",
   "nbconvert_exporter": "python",
   "pygments_lexer": "ipython3",
   "version": "3.12.4"
  }
 },
 "nbformat": 4,
 "nbformat_minor": 5
}
