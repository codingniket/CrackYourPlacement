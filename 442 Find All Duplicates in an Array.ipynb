{
 "cells": [
  {
   "cell_type": "markdown",
   "id": "50892100-326a-46a5-80a8-548b1e0c8fc5",
   "metadata": {},
   "source": [
    "### 442. Find All Duplicates in an Array"
   ]
  },
  {
   "cell_type": "code",
   "execution_count": 10,
   "id": "4315e7ec-a782-4573-bb20-9349c549ca22",
   "metadata": {},
   "outputs": [],
   "source": [
    "def hello(nums):\n",
    "    d={}\n",
    "    ans=[]\n",
    "    \n",
    "    for i in nums:\n",
    "        if i in d:\n",
    "            d[i] += 1\n",
    "        else:\n",
    "            d[i] = 1\n",
    "    \n",
    "    for i,j in d.items():\n",
    "        if j > 1:\n",
    "            ans.append(i)\n",
    "    \n",
    "    return ans"
   ]
  },
  {
   "cell_type": "code",
   "execution_count": 9,
   "id": "b7de0cf0-26db-4b60-a96b-ddd63d09c55d",
   "metadata": {},
   "outputs": [
    {
     "name": "stdout",
     "output_type": "stream",
     "text": [
      "[1]\n"
     ]
    }
   ],
   "source": [
    "nums=[1,1,2,3]\n",
    "print(hello(nums))"
   ]
  },
  {
   "cell_type": "code",
   "execution_count": null,
   "id": "4235a80c-a2c5-4883-b5ad-9ba49ba719c6",
   "metadata": {},
   "outputs": [],
   "source": []
  }
 ],
 "metadata": {
  "kernelspec": {
   "display_name": "Python 3 (ipykernel)",
   "language": "python",
   "name": "python3"
  },
  "language_info": {
   "codemirror_mode": {
    "name": "ipython",
    "version": 3
   },
   "file_extension": ".py",
   "mimetype": "text/x-python",
   "name": "python",
   "nbconvert_exporter": "python",
   "pygments_lexer": "ipython3",
   "version": "3.12.4"
  }
 },
 "nbformat": 4,
 "nbformat_minor": 5
}
