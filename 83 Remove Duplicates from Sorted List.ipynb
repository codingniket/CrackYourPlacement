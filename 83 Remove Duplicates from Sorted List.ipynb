{
 "cells": [
  {
   "cell_type": "code",
   "execution_count": 1,
   "id": "7ba04f84-47b5-402a-bbff-fd1401c144a6",
   "metadata": {},
   "outputs": [],
   "source": [
    "# 83 Remove Duplicates from Sorted List"
   ]
  },
  {
   "cell_type": "code",
   "execution_count": null,
   "id": "c474c436-1e12-4e91-bdab-cbda89a6cead",
   "metadata": {},
   "outputs": [],
   "source": [
    "# Definition for singly-linked list.\n",
    "# class ListNode:\n",
    "#     def __init__(self, val=0, next=None):\n",
    "#         self.val = val\n",
    "#         self.next = next\n",
    "class Solution:\n",
    "    def deleteDuplicates(self, head: Optional[ListNode]) -> Optional[ListNode]:\n",
    "        ans = head\n",
    "        while ans and ans.next:\n",
    "            if ans.val == ans.next.val:\n",
    "                ans.next = ans.next.next\n",
    "            else:\n",
    "                ans = ans.next\n",
    "        return head"
   ]
  }
 ],
 "metadata": {
  "kernelspec": {
   "display_name": "Python 3 (ipykernel)",
   "language": "python",
   "name": "python3"
  },
  "language_info": {
   "codemirror_mode": {
    "name": "ipython",
    "version": 3
   },
   "file_extension": ".py",
   "mimetype": "text/x-python",
   "name": "python",
   "nbconvert_exporter": "python",
   "pygments_lexer": "ipython3",
   "version": "3.12.4"
  }
 },
 "nbformat": 4,
 "nbformat_minor": 5
}
