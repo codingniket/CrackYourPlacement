{
 "cells": [
  {
   "cell_type": "code",
   "execution_count": 1,
   "id": "7835dd47-8fa5-4bb2-b250-82e90d8a027e",
   "metadata": {},
   "outputs": [],
   "source": [
    "# 203. Remove Linked List Elements"
   ]
  },
  {
   "cell_type": "code",
   "execution_count": null,
   "id": "16b80968-ab0a-4fef-839c-7244b83de3e7",
   "metadata": {},
   "outputs": [],
   "source": [
    "# Definition for singly-linked list.\n",
    "# class ListNode:\n",
    "#     def __init__(self, val=0, next=None):\n",
    "#         self.val = val\n",
    "#         self.next = next\n",
    "class Solution:\n",
    "    def removeElements(self, head: Optional[ListNode], val: int) -> Optional[ListNode]:\n",
    "        if not head:\n",
    "            return \n",
    "        \n",
    "        curr = dum = ListNode(0)\n",
    "        dum.next = head\n",
    "\n",
    "        while dum:\n",
    "            while dum.next and dum.next.val == val:\n",
    "                dum.next = dum.next.next\n",
    "            dum = dum.next\n",
    "        return curr.next"
   ]
  }
 ],
 "metadata": {
  "kernelspec": {
   "display_name": "Python 3 (ipykernel)",
   "language": "python",
   "name": "python3"
  },
  "language_info": {
   "codemirror_mode": {
    "name": "ipython",
    "version": 3
   },
   "file_extension": ".py",
   "mimetype": "text/x-python",
   "name": "python",
   "nbconvert_exporter": "python",
   "pygments_lexer": "ipython3",
   "version": "3.12.4"
  }
 },
 "nbformat": 4,
 "nbformat_minor": 5
}
